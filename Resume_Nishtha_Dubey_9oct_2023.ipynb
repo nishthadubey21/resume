{
 "cells": [
  {
   "cell_type": "markdown",
   "id": "e4cf4b05",
   "metadata": {},
   "source": [
    "# <center> Resume </center>\n"
   ]
  },
  {
   "cell_type": "markdown",
   "id": "e3f31856",
   "metadata": {},
   "source": []
  },
  {
   "cell_type": "markdown",
   "id": "560f0d0b",
   "metadata": {},
   "source": [
    "## Nishtha Dubey"
   ]
  },
  {
   "cell_type": "markdown",
   "id": "1646bb24",
   "metadata": {},
   "source": [
    "### <u> Personal information </u> \n",
    "    \n",
    "   * Full name : Mrs Nishtha Dubey\n",
    "   * Email : nishthapandey101@gmail.com\n",
    "   * Phone : +91 626387291\n",
    "   * Linkdin :\n",
    "   * Github : Click [here](https://github.com/nishthadubey21)\n",
    "   * Medium : Click [here](https://medium.com/@nishthapandey101)\n",
    "   * Stock overflow : Click [here](https://stackoverflow.com/users/22708306/nishtha-dubey)\n",
    "   * Kaggle: Click [here](https://www.kaggle.com/nishthadubey97)\n",
    "        "
   ]
  },
  {
   "cell_type": "markdown",
   "id": "a7cca107",
   "metadata": {},
   "source": [
    "###  <u> Education </u>\n",
    "\n",
    "       "
   ]
  },
  {
   "cell_type": "markdown",
   "id": "7406e13b",
   "metadata": {},
   "source": [
    "#### > University/College\n",
    "\n",
    "   * MSc (mathematics) BU Bhopal\n",
    "   * BSc BU Bhopal\n",
    "        "
   ]
  },
  {
   "cell_type": "markdown",
   "id": "1bd927df",
   "metadata": {},
   "source": [
    "#### > Certificates\n",
    "   * App development seminar for 30 days.\n",
    "   * DCA"
   ]
  },
  {
   "cell_type": "markdown",
   "id": "66a50a48",
   "metadata": {},
   "source": [
    "#### > Admitted Course\n",
    "\n",
    "   * Data Science"
   ]
  },
  {
   "cell_type": "markdown",
   "id": "47e0fa59",
   "metadata": {},
   "source": [
    "### <u> Experience </u>\n",
    "\n",
    "   * 2 years teaching experience of Engineering Mathematics in Oriental Institute of Science & Technology,       Bhopal."
   ]
  },
  {
   "cell_type": "markdown",
   "id": "278db70f",
   "metadata": {},
   "source": [
    "###  <u> Interests </u>\n",
    "\n",
    "   * Reading Books\n",
    "   * Playing Games\n",
    "   * Travelling \n",
    "   * Musics"
   ]
  },
  {
   "cell_type": "code",
   "execution_count": null,
   "id": "ab5e3758",
   "metadata": {},
   "outputs": [],
   "source": []
  }
 ],
 "metadata": {
  "kernelspec": {
   "display_name": "Python 3 (ipykernel)",
   "language": "python",
   "name": "python3"
  },
  "language_info": {
   "codemirror_mode": {
    "name": "ipython",
    "version": 3
   },
   "file_extension": ".py",
   "mimetype": "text/x-python",
   "name": "python",
   "nbconvert_exporter": "python",
   "pygments_lexer": "ipython3",
   "version": "3.11.5"
  }
 },
 "nbformat": 4,
 "nbformat_minor": 5
}
